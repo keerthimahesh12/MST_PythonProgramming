{
  "nbformat": 4,
  "nbformat_minor": 0,
  "metadata": {
    "colab": {
      "provenance": []
    },
    "kernelspec": {
      "name": "python3",
      "display_name": "Python 3"
    },
    "language_info": {
      "name": "python"
    }
  },
  "cells": [
    {
      "cell_type": "markdown",
      "source": [
        "1.\n",
        "Given the string \"Hello, World!\", extract and print the substring \"Hello\"."
      ],
      "metadata": {
        "id": "1zaDOjQAgx8s"
      }
    },
    {
      "cell_type": "code",
      "execution_count": null,
      "metadata": {
        "colab": {
          "base_uri": "https://localhost:8080/"
        },
        "id": "zPREAqlGgsqP",
        "outputId": "a238e15d-97c8-45b8-b3cb-8fdcdce97df8"
      },
      "outputs": [
        {
          "output_type": "stream",
          "name": "stdout",
          "text": [
            "Hello\n"
          ]
        }
      ],
      "source": [
        "str_1=\"Hello, World!\"\n",
        "print(str_1[0:5])"
      ]
    },
    {
      "cell_type": "markdown",
      "source": [
        "2.\n",
        "Given the string \"Python is fun\", extract and print the substring \"is\"."
      ],
      "metadata": {
        "id": "5crHwCyzhGCH"
      }
    },
    {
      "cell_type": "code",
      "source": [
        "str_2=\"Python is fun\"\n",
        "print(str_2[7:9])"
      ],
      "metadata": {
        "colab": {
          "base_uri": "https://localhost:8080/"
        },
        "id": "Zvo6ymvvhDMV",
        "outputId": "415cf1f3-1c23-4c9a-c55d-a1a8e3eac2ce"
      },
      "execution_count": null,
      "outputs": [
        {
          "output_type": "stream",
          "name": "stdout",
          "text": [
            "is\n"
          ]
        }
      ]
    },
    {
      "cell_type": "markdown",
      "source": [
        "3.\n",
        "Given the string \"Programming\", extract and print the substring \"gram\" using slicing indices."
      ],
      "metadata": {
        "id": "O1YRE-9chSkO"
      }
    },
    {
      "cell_type": "code",
      "source": [
        "str_3=\"Programming\"\n",
        "print(str_3[3:7])"
      ],
      "metadata": {
        "colab": {
          "base_uri": "https://localhost:8080/"
        },
        "id": "Ivi_fqMFhRRN",
        "outputId": "499cd24a-265d-41fb-cdd6-a4141e65841b"
      },
      "execution_count": null,
      "outputs": [
        {
          "output_type": "stream",
          "name": "stdout",
          "text": [
            "gram\n"
          ]
        }
      ]
    },
    {
      "cell_type": "markdown",
      "source": [
        "4.\n",
        "Given the string \"abcdefgh\", use slicing to print only the characters at even indices."
      ],
      "metadata": {
        "id": "Zu7gx_DZhnHP"
      }
    },
    {
      "cell_type": "code",
      "source": [
        "str_4=\"abcdefgh\"\n",
        "print(str_4[0::2])"
      ],
      "metadata": {
        "colab": {
          "base_uri": "https://localhost:8080/"
        },
        "id": "5ld_7l1Chl7b",
        "outputId": "9621919b-3782-4d93-9e3a-b6c3b9babee9"
      },
      "execution_count": null,
      "outputs": [
        {
          "output_type": "stream",
          "name": "stdout",
          "text": [
            "aceg\n"
          ]
        }
      ]
    },
    {
      "cell_type": "markdown",
      "source": [
        "5.\n",
        "Given the string \"abcdefg\", use negative indices to extract and print the substring \"efg\"."
      ],
      "metadata": {
        "id": "XQQKGCdVh5QD"
      }
    },
    {
      "cell_type": "code",
      "source": [
        "str_5=\"abcdefg\"\n",
        "print(str_5[-3:])"
      ],
      "metadata": {
        "colab": {
          "base_uri": "https://localhost:8080/"
        },
        "id": "vDfkp_3wh20t",
        "outputId": "41675a80-5f4d-4ee8-db90-b456b467e0d8"
      },
      "execution_count": null,
      "outputs": [
        {
          "output_type": "stream",
          "name": "stdout",
          "text": [
            "efg\n"
          ]
        }
      ]
    },
    {
      "cell_type": "markdown",
      "source": [
        "6.\n",
        "Given the string \"Data Science\", use negative indices to extract and print the last three characters"
      ],
      "metadata": {
        "id": "2RduEYGUiG4B"
      }
    },
    {
      "cell_type": "code",
      "source": [
        "str_6=\"Data Science\"\n",
        "print(str_6[-3:])"
      ],
      "metadata": {
        "colab": {
          "base_uri": "https://localhost:8080/"
        },
        "id": "F5_E0QyDiEkG",
        "outputId": "815137be-664d-4646-cb73-67ee2aeaf6fb"
      },
      "execution_count": null,
      "outputs": [
        {
          "output_type": "stream",
          "name": "stdout",
          "text": [
            "nce\n"
          ]
        }
      ]
    },
    {
      "cell_type": "markdown",
      "source": [
        "7.\n",
        "Given the string \"abcdefghij\", use slicing with a step to print every second character."
      ],
      "metadata": {
        "id": "nUp2uwNZiaOA"
      }
    },
    {
      "cell_type": "code",
      "source": [
        "str_7=\"abcdefghij\"\n",
        "print(str_7[0::2])\n",
        "print(str_7[1::2])"
      ],
      "metadata": {
        "colab": {
          "base_uri": "https://localhost:8080/"
        },
        "id": "7sRswXTZiTAI",
        "outputId": "a77d63a0-069c-472a-af31-625f4984a4e0"
      },
      "execution_count": null,
      "outputs": [
        {
          "output_type": "stream",
          "name": "stdout",
          "text": [
            "acegi\n",
            "bdfhj\n"
          ]
        }
      ]
    },
    {
      "cell_type": "markdown",
      "source": [
        "8.\n",
        "Given the string \"1234567890\", use slicing with a step to print the odd digits."
      ],
      "metadata": {
        "id": "OFgglG-Pir6b"
      }
    },
    {
      "cell_type": "code",
      "source": [
        "str_8=\"1234567890\"\n",
        "print(str_8[0::2])"
      ],
      "metadata": {
        "colab": {
          "base_uri": "https://localhost:8080/"
        },
        "id": "-AHIing_ihoF",
        "outputId": "c9be1fa3-ae49-4c4c-94fb-f1876c6314d3"
      },
      "execution_count": null,
      "outputs": [
        {
          "output_type": "stream",
          "name": "stdout",
          "text": [
            "13579\n"
          ]
        }
      ]
    },
    {
      "cell_type": "markdown",
      "source": [
        "9.\n",
        "Given the string \"Hello\", use slicing to print the string in reverse order."
      ],
      "metadata": {
        "id": "rGEjcwW-i3L3"
      }
    },
    {
      "cell_type": "code",
      "source": [
        "str_9=\"Hello\"\n",
        "print(str_9[::-1])"
      ],
      "metadata": {
        "colab": {
          "base_uri": "https://localhost:8080/"
        },
        "id": "h_Qo0mmoi1m_",
        "outputId": "e0802e06-ba98-4d67-9afc-69ae87997f6f"
      },
      "execution_count": null,
      "outputs": [
        {
          "output_type": "stream",
          "name": "stdout",
          "text": [
            "olleH\n"
          ]
        }
      ]
    },
    {
      "cell_type": "markdown",
      "source": [
        "10.\n",
        "Given the string \"abcdefghijk\", extract and print the substring \"acegik\" using slicing."
      ],
      "metadata": {
        "id": "b84HQjTxi_J5"
      }
    },
    {
      "cell_type": "code",
      "source": [
        "str_10=\"abcdefghijk\"\n",
        "print(str_10[0::2])"
      ],
      "metadata": {
        "colab": {
          "base_uri": "https://localhost:8080/"
        },
        "id": "gYwlkMxGi9tj",
        "outputId": "5ca8ff2a-83a2-455e-9e1e-aed7a707743a"
      },
      "execution_count": null,
      "outputs": [
        {
          "output_type": "stream",
          "name": "stdout",
          "text": [
            "acegik\n"
          ]
        }
      ]
    },
    {
      "cell_type": "code",
      "source": [],
      "metadata": {
        "id": "VICecXP2jImn"
      },
      "execution_count": null,
      "outputs": []
    }
  ]
}