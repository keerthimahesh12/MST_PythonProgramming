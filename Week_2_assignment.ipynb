{
  "nbformat": 4,
  "nbformat_minor": 0,
  "metadata": {
    "colab": {
      "provenance": []
    },
    "kernelspec": {
      "name": "python3",
      "display_name": "Python 3"
    },
    "language_info": {
      "name": "python"
    }
  },
  "cells": [
    {
      "cell_type": "markdown",
      "source": [
        "1. Write an interactive Python Program to implement following “Guess Game”\n",
        "i. Think of a number between 1 and 10 and store it in a variable called \"secretNumber\".\n",
        "ii. Ask the user to enter a number between 1 and 10 and store it in a variable called \"guess\".\n",
        "iii. Use control statements (if-else) to check if the guess is correct, higher, or lower than the secret number.\n",
        "iv. Display appropriate messages to the user based on their guess:\n",
        "• If the guess is correct, display \"Congratulations! You guessed the number correctly!\"\n",
        "• If the guess is higher than the secret number, display \"Too high! Try again.\"\n",
        "• If the guess is lower than the secret number, display \"Too low! Try again.\"\n",
        "v. Allow the user to keep guessing until they guess the correct number."
      ],
      "metadata": {
        "id": "bhCyg9oy7fMH"
      }
    },
    {
      "cell_type": "code",
      "execution_count": null,
      "metadata": {
        "colab": {
          "base_uri": "https://localhost:8080/"
        },
        "id": "-Z_x7X1T7ZoV",
        "outputId": "d19ab5d7-186d-490a-c3f3-ea14201a0cdc"
      },
      "outputs": [
        {
          "output_type": "stream",
          "name": "stdout",
          "text": [
            "Welcome to Guess Game!\n",
            "Enter a number between 1 and 10 : 1\n",
            "Too low! Try again.\n",
            "Enter a number between 1 and 10 : 10\n",
            "Too high! Try again.\n",
            "Enter a number between 1 and 10 : 4\n",
            "Congratulations! You guessed the number correctly!\n"
          ]
        }
      ],
      "source": [
        "print(\"Welcome to Guess Game!\")\n",
        "secret_number=4\n",
        "while True:\n",
        "  guess= int(input(\"Enter a number between 1 and 10 : \"))\n",
        "  if guess==secret_number:\n",
        "    print(\"Congratulations! You guessed the number correctly!\")\n",
        "    break\n",
        "  else:\n",
        "    if guess>secret_number:\n",
        "      print(\"Too high! Try again.\")\n",
        "    elif guess<secret_number:\n",
        "      print(\"Too low! Try again.\")"
      ]
    },
    {
      "cell_type": "markdown",
      "source": [
        "2. Write a program to find and print the Factorial of this number. The Factorial of a positive integer N refers to the product of all number in the range from 1 to N."
      ],
      "metadata": {
        "id": "8QarXxdj8ySN"
      }
    },
    {
      "cell_type": "code",
      "source": [
        "num=int(input(\"Enter a number : \"))\n",
        "fact=1\n",
        "\n",
        "for i in range(1,num+1):\n",
        "  fact=fact*i\n",
        "\n",
        "print(\"Factorial of \",num,\" is : \",fact)"
      ],
      "metadata": {
        "colab": {
          "base_uri": "https://localhost:8080/"
        },
        "id": "Hdx82LBh8kaK",
        "outputId": "2f482a91-dfc2-4649-df82-5120da704f5f"
      },
      "execution_count": null,
      "outputs": [
        {
          "output_type": "stream",
          "name": "stdout",
          "text": [
            "Enter a number : 5\n",
            "Factorial of  5  is :  120\n"
          ]
        }
      ]
    },
    {
      "cell_type": "markdown",
      "source": [
        "3. Roy wants to change his profile picture on Facebook. Now Facebook has some restriction over the dimension of picture that we can upload. Minimum dimension of the picture can be L x L, where L is the length of the side of square. Now Roy has N photos of various dimensions. Dimension of a photo is denoted as W x H where W - width of the photo and H - Height of the photo. When any photo is uploaded following events may occur:\n",
        "\n",
        "3.1. If any of the width or height is less than L, user is prompted to upload another one. Print \"UPLOAD ANOTHER\" in this case.\n",
        "\n",
        "3.2. If width and height, both are large enough and (a) if the photo is already square then it is accepted. Print \"ACCEPTED\" in this case. (b) else user is prompted to crop it. Print \"CROP IT\" in this case.\n",
        "\n",
        "Given L, N, W and H as input, write a program to print appropriate text as output."
      ],
      "metadata": {
        "id": "0cYAz4sv95YT"
      }
    },
    {
      "cell_type": "code",
      "source": [
        "l=int(input(\"Enter the minimum dimension of the picture (LxL) : \"))\n",
        "n=int(input(\"Enter number of photos : \"))\n",
        "list_photo=[]\n",
        "list_dim=[]\n",
        "for i in range(1,n+1):\n",
        "  w,h=map(int,input(f\"Enter dimensions of picture no. {i} (W,H): \").split(\",\"))\n",
        "  list_dim=[w,h]\n",
        "  list_photo.append(list_dim)\n",
        "\n",
        "#print(list_photo)\n",
        "\n",
        "pic_number=1\n",
        "for item in list_photo:\n",
        "  print(\"\\n\")\n",
        "  print(\"Image no.\",pic_number)\n",
        "  pic_number+=1\n",
        "  for j in item:\n",
        "    if j<l:\n",
        "      #print(\"Size lesser than required dimension.\")\n",
        "      print(\"UPLOAD ANOTHER\")\n",
        "      break\n",
        "    elif j>l:\n",
        "      #print(\"Size greater than required dimension.\")\n",
        "      print(\"CROP IT\")\n",
        "      break\n",
        "    else:\n",
        "      print(\"ACCEPTED\")\n",
        "      break\n",
        "\n"
      ],
      "metadata": {
        "colab": {
          "base_uri": "https://localhost:8080/"
        },
        "id": "ZJRMV3Xu9oP8",
        "outputId": "4cc09ad4-1d63-4319-90e4-cc236ad523ca"
      },
      "execution_count": null,
      "outputs": [
        {
          "output_type": "stream",
          "name": "stdout",
          "text": [
            "Enter the minimum dimension of the picture (LxL) : 5\n",
            "Enter number of photos : 4\n",
            "Enter dimensions of picture no. 1 (W,H): 5,5\n",
            "Enter dimensions of picture no. 2 (W,H): 2,4\n",
            "Enter dimensions of picture no. 3 (W,H): 7,7\n",
            "Enter dimensions of picture no. 4 (W,H): 2,2\n",
            "\n",
            "\n",
            "Image no. 1\n",
            "ACCEPTED\n",
            "\n",
            "\n",
            "Image no. 2\n",
            "UPLOAD ANOTHER\n",
            "\n",
            "\n",
            "Image no. 3\n",
            "CROP IT\n",
            "\n",
            "\n",
            "Image no. 4\n",
            "UPLOAD ANOTHER\n"
          ]
        }
      ]
    },
    {
      "cell_type": "code",
      "source": [],
      "metadata": {
        "id": "aoDWPoF4BWkd"
      },
      "execution_count": null,
      "outputs": []
    }
  ]
}