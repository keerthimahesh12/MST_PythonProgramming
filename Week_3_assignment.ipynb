{
  "nbformat": 4,
  "nbformat_minor": 0,
  "metadata": {
    "colab": {
      "provenance": []
    },
    "kernelspec": {
      "name": "python3",
      "display_name": "Python 3"
    },
    "language_info": {
      "name": "python"
    }
  },
  "cells": [
    {
      "cell_type": "markdown",
      "source": [
        "1. Write a function that returns the middle value among three integers.Write code to test this function with different inputs."
      ],
      "metadata": {
        "id": "RbWO4qlWlPez"
      }
    },
    {
      "cell_type": "code",
      "execution_count": 1,
      "metadata": {
        "colab": {
          "base_uri": "https://localhost:8080/"
        },
        "id": "31fpDoEelIhU",
        "outputId": "c2c23065-30d6-4cdd-a52f-843a7a6ee201"
      },
      "outputs": [
        {
          "output_type": "stream",
          "name": "stdout",
          "text": [
            "The middle element is :  2\n",
            "The middle element is :  0\n",
            "The middle element is :  -25\n"
          ]
        }
      ],
      "source": [
        "def middle(n1,n2,n3):\n",
        "    list_n=[n1,n2,n3]\n",
        "    list_n=sorted(list_n)\n",
        "    print(\"The middle element is : \",list_n[1])\n",
        "middle(1,5,2)\n",
        "middle(-2,10,0)\n",
        "middle(100,-50,-25)"
      ]
    },
    {
      "cell_type": "markdown",
      "source": [
        "2. Build a calculator in Python using functions"
      ],
      "metadata": {
        "id": "IPWffwialp9B"
      }
    },
    {
      "cell_type": "code",
      "source": [
        "def calculator(num1,num2):\n",
        "    print(\"Sum : \",num1+num2)\n",
        "    print(\"Difference : \",num1-num2)\n",
        "    print(\"Product : \",num1*num2)\n",
        "    print(\"Quotient : \",num1/num2)\n",
        "\n",
        "def sum_calc(n1,n2):\n",
        "    print(f\"Sum : {n1}+{n2} = \",n1+n2)\n",
        "def diff_calc(n1,n2):\n",
        "    print(f\"Difference : {n1}-{n2} = \",n1-n2)\n",
        "def prod_calc(n1,n2):\n",
        "    print(f\"Product : {n1}x{n2} = \",n1*n2)\n",
        "def quot_calc(n1,n2):\n",
        "    print(f\"Quotient : {n1}/{n2} = \",n1/n2)\n",
        "\n",
        "a,b=map(int,input(\"Enter two numbers : \").split(','))\n",
        "print(\"Enter your choice of action : \")\n",
        "print(\"1. Sum\\n2. Difference\\n3. Product\\n4. Quotient\")\n",
        "choice=int(input())\n",
        "\n",
        "if choice==1:\n",
        "    sum_calc(a,b)\n",
        "elif choice==2:\n",
        "    diff_calc(a,b)\n",
        "elif choice==3:\n",
        "    prod_calc(a,b)\n",
        "elif choice==4:\n",
        "    quot_calc(a,b)\n",
        "else:\n",
        "    print(\"Invalid input\")\n",
        "\n"
      ],
      "metadata": {
        "colab": {
          "base_uri": "https://localhost:8080/"
        },
        "id": "yzh91dWultiH",
        "outputId": "79f2be95-dc1b-4cb7-987a-f67fcda9b9e8"
      },
      "execution_count": 6,
      "outputs": [
        {
          "output_type": "stream",
          "name": "stdout",
          "text": [
            "Enter two numbers : 9,3\n",
            "Enter your choice of action : \n",
            "1. Sum\n",
            "2. Difference\n",
            "3. Product\n",
            "4. Quotient\n",
            "4\n",
            "Quotient : 9/3 =  3.0\n"
          ]
        }
      ]
    },
    {
      "cell_type": "markdown",
      "source": [
        "3. Write a function that takes the lengths of the two shorter sides of a right triangle as its\n",
        "parameters. Return the hypotenuse of the triangle, computed using Pythagorean theorem,\n",
        "as the function’s result."
      ],
      "metadata": {
        "id": "9PJ1UlEtluEY"
      }
    },
    {
      "cell_type": "code",
      "source": [
        "import math\n",
        "\n",
        "def hyp(a,b):\n",
        "    h=math.sqrt(a**2+b**2)\n",
        "    print(\"Hypotenuse = \",h)\n",
        "\n",
        "a,b=map(int,input(\"Enter the altitude and base : \").split(','))\n",
        "print(\"Altitude = \",a)\n",
        "print(\"Base = \",b)\n",
        "hyp(a,b)"
      ],
      "metadata": {
        "colab": {
          "base_uri": "https://localhost:8080/"
        },
        "id": "E6bbT3_RlyYx",
        "outputId": "0f34736e-74d1-45a9-d94a-09059b3d7503"
      },
      "execution_count": 9,
      "outputs": [
        {
          "output_type": "stream",
          "name": "stdout",
          "text": [
            "Enter the altitude and base : 5,12\n",
            "Altitude =  5\n",
            "Base =  12\n",
            "Hypotenuse =  13.0\n"
          ]
        }
      ]
    },
    {
      "cell_type": "markdown",
      "source": [
        "4. The Rectangle problem\n",
        "(a) Write a Rectangle class in Python language, allowing you to build a rectangle with\n",
        "length and width attributes.\n",
        "(b) Create a Perimeter() method to calculate the perimeter of the rectangle and a Area()\n",
        "method to calculate the area of the rectangle.\n",
        "(c) Create a method display() that display the length, width, perimeter and area of an\n",
        "object created using an instantiation on rectangle class."
      ],
      "metadata": {
        "id": "6aTwCCvWly1_"
      }
    },
    {
      "cell_type": "code",
      "source": [
        "class Rectangle:\n",
        "\n",
        "    def __init__(self,length,breadth):\n",
        "        self.l=length\n",
        "        self.b=breadth\n",
        "    def perimeter(self):\n",
        "        self.p=2*self.l+2*self.b\n",
        "        return self.p\n",
        "    def area(self):\n",
        "        self.a=self.l*self.b\n",
        "        return self.a\n",
        "    def display(self):\n",
        "        print(\"Length = \",self.l)\n",
        "        print(\"Breadth = \",self.b)\n",
        "        print(\"Area = \",self.area())\n",
        "        print(\"Perimeter =\",self.perimeter())\n",
        "\n",
        "my_rectangle=Rectangle(10,20)\n",
        "my_rectangle.display()\n"
      ],
      "metadata": {
        "colab": {
          "base_uri": "https://localhost:8080/"
        },
        "id": "WagAHPUjl4JP",
        "outputId": "f8064851-99a9-4804-9c65-0db5810699c0"
      },
      "execution_count": 11,
      "outputs": [
        {
          "output_type": "stream",
          "name": "stdout",
          "text": [
            "Length =  10\n",
            "Breadth =  20\n",
            "Area =  200\n",
            "Perimeter = 60\n"
          ]
        }
      ]
    },
    {
      "cell_type": "markdown",
      "source": [
        "5. The Bank Account problem\n",
        "(a) Create a Python class called BankAccount which represents a bank account, having\n",
        "as attributes: accountNumber (numeric type), name (name of the account owner as\n",
        "string type), balance.\n",
        "(b) Create a constructor with parameters: accountNumber, name, balance.\n",
        "(c) Create a Deposit() method which manages the deposit actions.\n",
        "(d) Create a Withdrawal() method which manages withdrawals actions.\n",
        "(e) Create an bankFees() method to apply the bank fees with a percentage of 5% of the\n",
        "balance account.\n",
        "(f) Create a display() method to display account details."
      ],
      "metadata": {
        "id": "9oLY9HiSl4y6"
      }
    },
    {
      "cell_type": "code",
      "source": [
        "class BankAccount:\n",
        "    def __init__(self,acc_num,acc_name,balance):\n",
        "        self.acc_num=acc_num\n",
        "        self.acc_name=acc_name\n",
        "        self.balance=balance\n",
        "        #self.amount=0\n",
        "        self.bank_fees=0\n",
        "\n",
        "    def withdrawal(self,amount):\n",
        "        if amount<=self.balance:\n",
        "            self.balance = self.balance-amount\n",
        "            #return self.balance\n",
        "        else:\n",
        "            print(\"Insufficient balance\")\n",
        "        self.bankfees()\n",
        "\n",
        "    def deposit(self,amount):\n",
        "\n",
        "        self.balance=self.balance+amount\n",
        "        self.bankfees()\n",
        "\n",
        "\n",
        "    def bankfees(self):\n",
        "\n",
        "        self.bank_fees=(5/100)*self.balance\n",
        "\n",
        "\n",
        "    def display(self):\n",
        "        print(\"Account number : \",self.acc_num)\n",
        "        print(\"Account name : \",self.acc_name)\n",
        "        print(\"Balance :\",self.balance)\n",
        "\n",
        "    def disp_res(self):\n",
        "        print(\"Balance :\", self.balance)\n",
        "        print(\"Bank fees : \", self.bank_fees)\n",
        "        print(\"Updated account balance :\",self.balance-self.bank_fees)\n",
        "\n",
        "\n",
        "acc=BankAccount(1001,'Anne',2000)\n",
        "print(\"Account details :\\n\")\n",
        "acc.display()\n",
        "action=int(input(\"Enter your choice of action :\\n1. Withdraw \\n2. Deposit:\"))\n",
        "if action==1:\n",
        "    amount=int(input(\"Enter the amount to withdraw : \"))\n",
        "    acc.withdrawal(amount)\n",
        "elif action==2:\n",
        "    amount=int(input(\"Enter the amount to deposit : \"))\n",
        "    acc.deposit(amount)\n",
        "print(\"Updated balance : \")\n",
        "acc.disp_res()\n"
      ],
      "metadata": {
        "colab": {
          "base_uri": "https://localhost:8080/"
        },
        "id": "INEsbdr7l9b1",
        "outputId": "ecbb0069-7f21-46d7-b892-c1c23b7333e8"
      },
      "execution_count": 12,
      "outputs": [
        {
          "output_type": "stream",
          "name": "stdout",
          "text": [
            "Account details :\n",
            "\n",
            "Account number :  1001\n",
            "Account name :  Anne\n",
            "Balance : 2000\n",
            "Enter your choice of action :\n",
            "1. Withdraw \n",
            "2. Deposit:2\n",
            "Enter the amount to deposit : 500\n",
            "Updated balance : \n",
            "Balance : 2500\n",
            "Bank fees :  125.0\n",
            "Updated account balance : 2375.0\n"
          ]
        }
      ]
    },
    {
      "cell_type": "code",
      "source": [],
      "metadata": {
        "id": "FDBE12i5n8Fu"
      },
      "execution_count": null,
      "outputs": []
    }
  ]
}