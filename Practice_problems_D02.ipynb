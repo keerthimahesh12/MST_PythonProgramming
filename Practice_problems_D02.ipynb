{
  "nbformat": 4,
  "nbformat_minor": 0,
  "metadata": {
    "colab": {
      "provenance": []
    },
    "kernelspec": {
      "name": "python3",
      "display_name": "Python 3"
    },
    "language_info": {
      "name": "python"
    }
  },
  "cells": [
    {
      "cell_type": "markdown",
      "source": [
        "1.Write a program to find sum of all elements in a list of integers."
      ],
      "metadata": {
        "id": "EcarkkPDMAzX"
      }
    },
    {
      "cell_type": "code",
      "execution_count": null,
      "metadata": {
        "colab": {
          "base_uri": "https://localhost:8080/"
        },
        "id": "v17iyVhzK_7e",
        "outputId": "cbe5bca4-678f-489f-d2ee-e3b83da2f94f"
      },
      "outputs": [
        {
          "output_type": "stream",
          "name": "stdout",
          "text": [
            "55\n"
          ]
        }
      ],
      "source": [
        "l1=[1,2,3,4,5,6,7,8,9,10]\n",
        "sum1= sum(l1)\n",
        "print(sum1)\n"
      ]
    },
    {
      "cell_type": "markdown",
      "source": [
        "2.\n",
        "Input a sentence as a string.\n",
        "a)\n",
        "Print its length\n",
        "b)\n",
        "Print the first half of string"
      ],
      "metadata": {
        "id": "NWJ9hVUGL-pO"
      }
    },
    {
      "cell_type": "code",
      "source": [
        "str_1=input(\"enter a string: \")\n",
        "len_1=len(str_1)\n",
        "print(\"the length of the string is:\",len_1)\n",
        "half=len_1//2\n",
        "print(\"first half of the string:\",str_1[0:half])"
      ],
      "metadata": {
        "colab": {
          "base_uri": "https://localhost:8080/"
        },
        "id": "8DE2IgwYLwn9",
        "outputId": "cd826105-67db-4df6-e1fe-8348f3e1ec84"
      },
      "execution_count": null,
      "outputs": [
        {
          "output_type": "stream",
          "name": "stdout",
          "text": [
            "enter a string: old mcdonald had a farm\n",
            "the length of the string is: 23\n",
            "first half of the string: old mcdonal\n"
          ]
        }
      ]
    },
    {
      "cell_type": "markdown",
      "source": [
        "3.\n",
        "Write a program to enter a tuple of integers as (78,45,32,19,82,77,40,39). Change the third value in the tuple to 100"
      ],
      "metadata": {
        "id": "r0z5iffMNZzQ"
      }
    },
    {
      "cell_type": "code",
      "source": [
        "t1=(78,45,32,19,82,77,40,39)\n",
        "print(type(t1))\n",
        "#t1[2]=100     TypeError: 'tuple' object does not support item assignment\n",
        "l1=list(t1)  # convert into a list\n",
        "print(type(l1))\n",
        "l1[2]=100   # list is mutable\n",
        "print(l1)\n",
        "t1=tuple(l1)  #convert back into a tuple\n",
        "print(t1)\n",
        "print(type(t1))"
      ],
      "metadata": {
        "colab": {
          "base_uri": "https://localhost:8080/"
        },
        "id": "EIShFVFeMwz2",
        "outputId": "0d417fcc-6b57-494c-f6c0-30d3923d96da"
      },
      "execution_count": null,
      "outputs": [
        {
          "output_type": "stream",
          "name": "stdout",
          "text": [
            "<class 'tuple'>\n",
            "<class 'list'>\n",
            "[78, 45, 100, 19, 82, 77, 40, 39]\n",
            "(78, 45, 100, 19, 82, 77, 40, 39)\n",
            "<class 'tuple'>\n"
          ]
        }
      ]
    },
    {
      "cell_type": "markdown",
      "source": [
        "4.\n",
        "Consider a list listA=[19,32,10,55,31,32,94,29,10,65,77,40,40]\n",
        "(a)\n",
        "Delete the first occurrence of 32\n",
        "(b)\n",
        "Delete all occurrences of 40\n",
        "(c)\n",
        "Delete the value at index=5\n",
        "(d)\n",
        "Modify the value at index=9 as 300\n",
        "(e)\n",
        "Add 200 at index=2\n",
        "(f)\n",
        "Print the final list with its length, maximum value and sum of all elements"
      ],
      "metadata": {
        "id": "hWHGNaLNOpDF"
      }
    },
    {
      "cell_type": "code",
      "source": [
        "listA=[19,32,10,55,31,32,94,29,10,65,77,40,40]\n",
        "listA.remove(32) #removes item at index 1"
      ],
      "metadata": {
        "id": "--jlIXkSNosy"
      },
      "execution_count": null,
      "outputs": []
    },
    {
      "cell_type": "code",
      "source": [
        "listA  # first occurance of 32 removed"
      ],
      "metadata": {
        "colab": {
          "base_uri": "https://localhost:8080/"
        },
        "id": "NBUp9aBSPeH6",
        "outputId": "d6fd290d-b7db-435d-d010-15ff7f4b12c7"
      },
      "execution_count": null,
      "outputs": [
        {
          "output_type": "execute_result",
          "data": {
            "text/plain": [
              "[19, 10, 55, 31, 32, 94, 29, 10, 65, 77, 40, 40]"
            ]
          },
          "metadata": {},
          "execution_count": 16
        }
      ]
    },
    {
      "cell_type": "code",
      "source": [
        "print(\"No.of times '40' appears: \",listA.count(40))\n",
        "print(\"Removing all occurances of 40\")\n",
        "item=40\n",
        "res = [i for i in listA if i != item]  # list comprehension\n",
        "print(res)\n",
        "listA=res\n",
        "print(\"listA:\",listA)    # all occurences of 40 deleted"
      ],
      "metadata": {
        "colab": {
          "base_uri": "https://localhost:8080/"
        },
        "id": "E0ink5ZePgbO",
        "outputId": "39eb4cee-1abe-4d0b-cc31-d0cc2dd6853f"
      },
      "execution_count": null,
      "outputs": [
        {
          "output_type": "stream",
          "name": "stdout",
          "text": [
            "No.of times '40' appears:  2\n",
            "Removing all occurances of 40\n",
            "[19, 10, 55, 31, 32, 94, 29, 10, 65, 77]\n",
            "listA: [19, 10, 55, 31, 32, 94, 29, 10, 65, 77]\n"
          ]
        }
      ]
    },
    {
      "cell_type": "code",
      "source": [
        "listA.pop(5) # element at 5th index deleted\n",
        "print(listA)"
      ],
      "metadata": {
        "colab": {
          "base_uri": "https://localhost:8080/"
        },
        "id": "3SRkHya0Ptqz",
        "outputId": "13fe5af1-3b95-4080-bd9d-5f5d4b1807f0"
      },
      "execution_count": null,
      "outputs": [
        {
          "output_type": "stream",
          "name": "stdout",
          "text": [
            "[19, 10, 55, 31, 32, 29, 10, 65, 77]\n"
          ]
        }
      ]
    },
    {
      "cell_type": "code",
      "source": [
        "listA[8]=300 # modifying element at 9th position\n",
        "print(listA)"
      ],
      "metadata": {
        "colab": {
          "base_uri": "https://localhost:8080/"
        },
        "id": "O-VeW9zsSnOH",
        "outputId": "197fd65e-913c-423e-aa6d-f854f289cda7"
      },
      "execution_count": null,
      "outputs": [
        {
          "output_type": "stream",
          "name": "stdout",
          "text": [
            "[19, 10, 55, 31, 32, 29, 10, 65, 300]\n"
          ]
        }
      ]
    },
    {
      "cell_type": "code",
      "source": [
        "listA.insert(2,200) # inserting 200 at 2nd index position\n",
        "print(listA)"
      ],
      "metadata": {
        "colab": {
          "base_uri": "https://localhost:8080/"
        },
        "id": "1uMreV1GS47V",
        "outputId": "740ab35c-7d03-4b26-9257-0fc76a8b614d"
      },
      "execution_count": null,
      "outputs": [
        {
          "output_type": "stream",
          "name": "stdout",
          "text": [
            "[19, 10, 200, 55, 31, 32, 29, 10, 65, 300]\n"
          ]
        }
      ]
    },
    {
      "cell_type": "code",
      "source": [
        "print(\"final list:\",listA)\n",
        "print(\"length:\",len(listA))\n",
        "print(\"maximum value:\",max(listA))\n",
        "print(\"sum of all elements:\",sum(listA))"
      ],
      "metadata": {
        "colab": {
          "base_uri": "https://localhost:8080/"
        },
        "id": "KQxkcOj6TO4b",
        "outputId": "31641ca1-4342-44bf-ad01-27d94c4cc742"
      },
      "execution_count": null,
      "outputs": [
        {
          "output_type": "stream",
          "name": "stdout",
          "text": [
            "final list: [19, 10, 200, 55, 31, 32, 29, 10, 65, 300]\n",
            "length: 10\n",
            "maximum value: 300\n",
            "sum of all elements: 751\n"
          ]
        }
      ]
    },
    {
      "cell_type": "markdown",
      "source": [
        "5.\n",
        "Consider a string ”The day has been long”.\n",
        "(a)\n",
        "Delete the value at index =4\n",
        "(b)\n",
        "Print the string 4 times in a single line with space between each repetition\n",
        "(c)\n",
        "Print the string 3 times in a new line each time\n",
        "(d)\n",
        "Modify the string at index 7 as ’A’\n",
        "(e)\n",
        "Print the string from index 4 to 15\n",
        "(f)\n",
        "Print the final string with its length"
      ],
      "metadata": {
        "id": "2q4A1yoXTxnx"
      }
    },
    {
      "cell_type": "code",
      "source": [
        "str_2=\"The day has been long\""
      ],
      "metadata": {
        "id": "I4oWs6C5Tr5D"
      },
      "execution_count": null,
      "outputs": []
    },
    {
      "cell_type": "code",
      "source": [
        "str_3=str_2[0:4]\n",
        "str_4=str_2[5:]\n",
        "str_res=str_3+str_4\n",
        "print(str_res)"
      ],
      "metadata": {
        "colab": {
          "base_uri": "https://localhost:8080/"
        },
        "id": "BEZRNTKnUl5F",
        "outputId": "663e1ecd-8a47-40f8-bcc7-2f35d44eba23"
      },
      "execution_count": null,
      "outputs": [
        {
          "output_type": "stream",
          "name": "stdout",
          "text": [
            "The ay has been long\n"
          ]
        }
      ]
    },
    {
      "cell_type": "code",
      "source": [
        "print((str_2+' ')*4)"
      ],
      "metadata": {
        "colab": {
          "base_uri": "https://localhost:8080/"
        },
        "id": "UEg514_YVskl",
        "outputId": "c33c2fb8-10cf-4488-d0dd-37c0556c209f"
      },
      "execution_count": null,
      "outputs": [
        {
          "output_type": "stream",
          "name": "stdout",
          "text": [
            "The day has been long The day has been long The day has been long The day has been long \n"
          ]
        }
      ]
    },
    {
      "cell_type": "code",
      "source": [
        "print((str_2+'\\n')*3)"
      ],
      "metadata": {
        "colab": {
          "base_uri": "https://localhost:8080/"
        },
        "id": "vLGNuSm9WDRs",
        "outputId": "94bc7220-1a4d-427a-b31a-94ece4742b57"
      },
      "execution_count": null,
      "outputs": [
        {
          "output_type": "stream",
          "name": "stdout",
          "text": [
            "The day has been long\n",
            "The day has been long\n",
            "The day has been long\n",
            "\n"
          ]
        }
      ]
    },
    {
      "cell_type": "code",
      "source": [
        "modified_str = str_res[:7] + 'A' + str_res[8:]\n",
        "print(modified_str)"
      ],
      "metadata": {
        "colab": {
          "base_uri": "https://localhost:8080/"
        },
        "id": "394bJevhWY26",
        "outputId": "82debbde-2221-4246-8667-542cc0e36f9d"
      },
      "execution_count": null,
      "outputs": [
        {
          "output_type": "stream",
          "name": "stdout",
          "text": [
            "The ay Aas been long\n"
          ]
        }
      ]
    },
    {
      "cell_type": "code",
      "source": [
        "print(modified_str[4:15])"
      ],
      "metadata": {
        "colab": {
          "base_uri": "https://localhost:8080/"
        },
        "id": "3Z1V5uzNXgyB",
        "outputId": "81a60013-0314-42d8-dccf-b7f3a1bdc37d"
      },
      "execution_count": null,
      "outputs": [
        {
          "output_type": "stream",
          "name": "stdout",
          "text": [
            "ay Aas been\n"
          ]
        }
      ]
    },
    {
      "cell_type": "code",
      "source": [
        "print(len(modified_str))"
      ],
      "metadata": {
        "colab": {
          "base_uri": "https://localhost:8080/"
        },
        "id": "Oj9jq1caYicj",
        "outputId": "e6b25c67-cfc0-436b-99db-c84dc706fda0"
      },
      "execution_count": null,
      "outputs": [
        {
          "output_type": "stream",
          "name": "stdout",
          "text": [
            "20\n"
          ]
        }
      ]
    },
    {
      "cell_type": "markdown",
      "source": [
        "Converting string to list and back"
      ],
      "metadata": {
        "id": "ELJfLLZygG2a"
      }
    },
    {
      "cell_type": "code",
      "source": [
        "str_ls=\"The day has been long\""
      ],
      "metadata": {
        "id": "-_Ww_joUZdr4"
      },
      "execution_count": null,
      "outputs": []
    },
    {
      "cell_type": "code",
      "source": [
        "lst=list(str_ls)"
      ],
      "metadata": {
        "id": "UkIo9Cq-eZ1f"
      },
      "execution_count": null,
      "outputs": []
    },
    {
      "cell_type": "code",
      "source": [
        "print(lst)"
      ],
      "metadata": {
        "colab": {
          "base_uri": "https://localhost:8080/"
        },
        "id": "h4ZwJuJ6eoIY",
        "outputId": "e34d548e-d41e-4884-83c5-c2d6c140a2bf"
      },
      "execution_count": null,
      "outputs": [
        {
          "output_type": "stream",
          "name": "stdout",
          "text": [
            "['T', 'h', 'e', ' ', 'd', 'a', 'y', ' ', 'h', 'a', 's', ' ', 'b', 'e', 'e', 'n', ' ', 'l', 'o', 'n', 'g']\n"
          ]
        }
      ]
    },
    {
      "cell_type": "code",
      "source": [
        "lst.pop(4)"
      ],
      "metadata": {
        "colab": {
          "base_uri": "https://localhost:8080/",
          "height": 35
        },
        "id": "yr203du0eqnj",
        "outputId": "f10b85f7-9b1c-4a96-b7c3-adefadc3ae0c"
      },
      "execution_count": null,
      "outputs": [
        {
          "output_type": "execute_result",
          "data": {
            "text/plain": [
              "'d'"
            ],
            "application/vnd.google.colaboratory.intrinsic+json": {
              "type": "string"
            }
          },
          "metadata": {},
          "execution_count": 48
        }
      ]
    },
    {
      "cell_type": "code",
      "source": [
        "str_ls1=''.join(lst)\n",
        "print(str_ls1)"
      ],
      "metadata": {
        "colab": {
          "base_uri": "https://localhost:8080/"
        },
        "id": "qeKJ8s5UevnZ",
        "outputId": "ae4f21f1-370f-4073-e2c9-d59078a1d2db"
      },
      "execution_count": null,
      "outputs": [
        {
          "output_type": "stream",
          "name": "stdout",
          "text": [
            "The ay has been long\n"
          ]
        }
      ]
    },
    {
      "cell_type": "code",
      "source": [
        "print((str_ls1+' ')*4)"
      ],
      "metadata": {
        "colab": {
          "base_uri": "https://localhost:8080/"
        },
        "id": "H-EITjMdexig",
        "outputId": "ced18616-cf16-48ae-d465-f52848293eb6"
      },
      "execution_count": null,
      "outputs": [
        {
          "output_type": "stream",
          "name": "stdout",
          "text": [
            "The ay has been long The ay has been long The ay has been long The ay has been long \n"
          ]
        }
      ]
    },
    {
      "cell_type": "code",
      "source": [
        "print((str_ls1+'\\n')*3)"
      ],
      "metadata": {
        "colab": {
          "base_uri": "https://localhost:8080/"
        },
        "id": "GrXkIEjXfMSR",
        "outputId": "f1aaa840-3453-42fb-c51a-bd41e89f1087"
      },
      "execution_count": null,
      "outputs": [
        {
          "output_type": "stream",
          "name": "stdout",
          "text": [
            "The ay has been long\n",
            "The ay has been long\n",
            "The ay has been long\n",
            "\n"
          ]
        }
      ]
    },
    {
      "cell_type": "code",
      "source": [
        "new_lst=list(str_ls1)\n",
        "print(new_lst)"
      ],
      "metadata": {
        "colab": {
          "base_uri": "https://localhost:8080/"
        },
        "id": "ctkrP5ebfRcs",
        "outputId": "bf575c63-1c4f-4a95-b4b4-d8cc6db01ad8"
      },
      "execution_count": null,
      "outputs": [
        {
          "output_type": "stream",
          "name": "stdout",
          "text": [
            "['T', 'h', 'e', ' ', 'a', 'y', ' ', 'h', 'a', 's', ' ', 'b', 'e', 'e', 'n', ' ', 'l', 'o', 'n', 'g']\n"
          ]
        }
      ]
    },
    {
      "cell_type": "code",
      "source": [
        "new_lst[7]='A'\n",
        "new_str=''.join(new_lst)\n",
        "print(new_str)"
      ],
      "metadata": {
        "colab": {
          "base_uri": "https://localhost:8080/"
        },
        "id": "dGc_2B_GfpRa",
        "outputId": "1707165e-3a43-4bbe-dbf7-3aebfaf2726e"
      },
      "execution_count": null,
      "outputs": [
        {
          "output_type": "stream",
          "name": "stdout",
          "text": [
            "The ay Aas been long\n"
          ]
        }
      ]
    },
    {
      "cell_type": "code",
      "source": [
        "new_str[4:15]"
      ],
      "metadata": {
        "colab": {
          "base_uri": "https://localhost:8080/",
          "height": 35
        },
        "id": "XoMfUEW2f387",
        "outputId": "3cd692fc-8251-4c1d-f45a-1380d13ed68c"
      },
      "execution_count": null,
      "outputs": [
        {
          "output_type": "execute_result",
          "data": {
            "text/plain": [
              "'ay Aas been'"
            ],
            "application/vnd.google.colaboratory.intrinsic+json": {
              "type": "string"
            }
          },
          "metadata": {},
          "execution_count": 57
        }
      ]
    },
    {
      "cell_type": "code",
      "source": [
        "len(new_str)"
      ],
      "metadata": {
        "colab": {
          "base_uri": "https://localhost:8080/"
        },
        "id": "7CHJC4ZDf-1e",
        "outputId": "444ff368-ade6-4858-e4c3-f21c0cef2bd8"
      },
      "execution_count": null,
      "outputs": [
        {
          "output_type": "execute_result",
          "data": {
            "text/plain": [
              "20"
            ]
          },
          "metadata": {},
          "execution_count": 58
        }
      ]
    },
    {
      "cell_type": "code",
      "source": [],
      "metadata": {
        "id": "ctpUz6BCgA9W"
      },
      "execution_count": null,
      "outputs": []
    }
  ]
}