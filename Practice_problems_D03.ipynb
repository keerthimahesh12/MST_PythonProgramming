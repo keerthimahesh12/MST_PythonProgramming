{
  "nbformat": 4,
  "nbformat_minor": 0,
  "metadata": {
    "colab": {
      "provenance": []
    },
    "kernelspec": {
      "name": "python3",
      "display_name": "Python 3"
    },
    "language_info": {
      "name": "python"
    }
  },
  "cells": [
    {
      "cell_type": "markdown",
      "source": [
        "1. Given the participants' score sheet for your University Sports Day, you are required to\n",
        "find the runner-up score. You are given scores. Store them in a list and find the score of\n",
        "the runner-up. (Create an array of scores and print the runner up score)"
      ],
      "metadata": {
        "id": "-xZg2q9Yfg06"
      }
    },
    {
      "cell_type": "code",
      "execution_count": 1,
      "metadata": {
        "colab": {
          "base_uri": "https://localhost:8080/"
        },
        "id": "ZOWXsCie7IYG",
        "outputId": "ffc6dd58-1c72-416a-f143-1eff109ab6df"
      },
      "outputs": [
        {
          "output_type": "stream",
          "name": "stdout",
          "text": [
            "Runner up score :  55\n"
          ]
        }
      ],
      "source": [
        "list_1=[10,20,55,64,17,38]\n",
        "list_2=sorted(list_1)\n",
        "list_2.pop()\n",
        "#print(list_2)\n",
        "print(\"Runner up score : \",max(list_2))"
      ]
    },
    {
      "cell_type": "markdown",
      "source": [
        "2. A dictionary is given D={‘John’ [25,32,43],’Peter’:[87,55,96],’Ram’:[58,55,43],’Meena’:[63,79,85]}\n",
        "Get a name from user if the name in the dictionary change the values corresponding to\n",
        "that user to [88,77,99] and print the dictionary. Else print ‘Name not found’."
      ],
      "metadata": {
        "id": "89y0DqW8f4Ks"
      }
    },
    {
      "cell_type": "code",
      "source": [
        "D = {'John': [25, 32, 43], 'Peter': [87, 55, 96], 'Ram': [58, 55, 43], 'Meena': [63, 79, 85]}\n",
        "\n",
        "name_to_update=input(\"Enter a name: \")\n",
        "\n",
        "if name_to_update in D:\n",
        "\n",
        "    D[name_to_update]=[88, 77, 99]\n",
        "    print(\"Updated dictionary:\",D)\n",
        "else:\n",
        "    print(\"Name not found\")"
      ],
      "metadata": {
        "colab": {
          "base_uri": "https://localhost:8080/"
        },
        "id": "EXN03UXi7ROW",
        "outputId": "ea8fc183-e66a-4c27-fe8e-df0dc11b1174"
      },
      "execution_count": 2,
      "outputs": [
        {
          "output_type": "stream",
          "name": "stdout",
          "text": [
            "Enter a name: Peter\n",
            "Updated dictionary: {'John': [25, 32, 43], 'Peter': [88, 77, 99], 'Ram': [58, 55, 43], 'Meena': [63, 79, 85]}\n"
          ]
        }
      ]
    },
    {
      "cell_type": "markdown",
      "source": [
        "3. Ticket Price Calculator:\n",
        "I. Ask the user to enter their age.\n",
        "II. Use control statements (if-elif-else) to calculate the ticket price based on the\n",
        "following conditions:\n",
        "a. If the age is below 5, the ticket price is free.\n",
        "b. If the age is between 5 and 12 (inclusive), the ticket price is Rs.10.\n",
        "c. If the age is above 12, the ticket price is Rs.50.\n",
        "d. If the age is above 60, the ticket price is free.\n",
        "e. If the gender is female, the ticket price is 50% of the applicable rates.\n",
        "III. Display the ticket price to the user."
      ],
      "metadata": {
        "id": "B1N8FtAJ-BLy"
      }
    },
    {
      "cell_type": "code",
      "source": [
        "age=int(input(\"Enter your age: \"))\n",
        "ticket_price=0\n",
        "\n",
        "if age<5:\n",
        "  ticket_price=0\n",
        "elif age>=5 and age<=12:\n",
        "  gender=input(\"Enter category male/female(M/F) : \")\n",
        "  if gender=='F':\n",
        "    ticket_price=(50/100)*10\n",
        "  else:\n",
        "    ticket_price=10\n",
        "elif age>12 and age<60:\n",
        "  gender=input(\"Enter category male/female(M/F) : \")\n",
        "  if gender=='F':\n",
        "    ticket_price=(50/100)*50\n",
        "  else:\n",
        "    ticket_price=50\n",
        "else:\n",
        "  ticket_price=0\n",
        "\n",
        "print(\"Ticket price: \",ticket_price)\n"
      ],
      "metadata": {
        "colab": {
          "base_uri": "https://localhost:8080/"
        },
        "id": "-b35znV89_rN",
        "outputId": "8108a76d-6236-4771-aca2-e0d041c18a45"
      },
      "execution_count": null,
      "outputs": [
        {
          "output_type": "stream",
          "name": "stdout",
          "text": [
            "Enter your age: 5\n",
            "Enter category male/female(M/F) : F\n",
            "Ticket price:  5.0\n"
          ]
        }
      ]
    },
    {
      "cell_type": "code",
      "source": [],
      "metadata": {
        "id": "X2C1Wa3P_nV3"
      },
      "execution_count": null,
      "outputs": []
    }
  ]
}